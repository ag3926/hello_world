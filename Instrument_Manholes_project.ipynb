{
  "nbformat": 4,
  "nbformat_minor": 0,
  "metadata": {
    "colab": {
      "name": "Instrument Manholes project.ipynb",
      "version": "0.3.2",
      "provenance": [],
      "collapsed_sections": [],
      "include_colab_link": true
    },
    "kernelspec": {
      "name": "python3",
      "display_name": "Python 3"
    }
  },
  "cells": [
    {
      "cell_type": "markdown",
      "metadata": {
        "id": "view-in-github",
        "colab_type": "text"
      },
      "source": [
        "<a href=\"https://colab.research.google.com/github/ag3926/hello_world/blob/master/Instrument_Manholes_project.ipynb\" target=\"_parent\"><img src=\"https://colab.research.google.com/assets/colab-badge.svg\" alt=\"Open In Colab\"/></a>"
      ]
    },
    {
      "cell_type": "code",
      "metadata": {
        "id": "cIZ5ZaeCMNIt",
        "colab_type": "code",
        "colab": {}
      },
      "source": [
        "#download and import packages and authorize connection to Google account and open a google spreadsheet\n",
        "!pip install --upgrade -q gspread\n",
        "from google.colab import auth\n",
        "auth.authenticate_user()\n",
        "\n",
        "import gspread\n",
        "from oauth2client.client import GoogleCredentials\n",
        "\n",
        "gc = gspread.authorize(GoogleCredentials.get_application_default())\n",
        "\n",
        "import pandas\n",
        "from datascience import *\n",
        "from pandas import DataFrame\n",
        "\n",
        "import numpy as np\n",
        "import math\n",
        "\n",
        "\n",
        "\n",
        "\n",
        "##THIS IS THE SPREADHSEET INCLUDING THE INSTRUMENT MANHOLES##\n",
        "\n",
        "spreadsheet = gc.open_by_url(\"https://docs.google.com/spreadsheets/d/1umFPxBQLV9kEYUwu6VDhYD9o5mLrXjGsaxnR6BjO638\")\n",
        "sheet =  spreadsheet.get_worksheet(0)  # 0 means the first sheet in the file\n",
        "manholes = pandas.DataFrame(sheet.get_all_records())\n",
        "manholes=Table.from_df(manholes)\n",
        "\n",
        "\n",
        "\n",
        "\n",
        "\n",
        "##THIS IS THE SPREADHSEET INCLUDING THE BUILDINGS##\n",
        "\n",
        "#spreadsheet1 = gc.open_by_url(\"https://docs.google.com/spreadsheets/d/1TTZzkLpiTsUWJ_1r2NMkc_39H7NqgEvL-cwOARRjdZE/edit?usp=sharing\")\n",
        "sheet1 =  spreadsheet.get_worksheet(1)  # 0 means the first sheet in the file\n",
        "buildings = pandas.DataFrame(sheet1.get_all_records())\n",
        "buildings = Table.from_df(buildings)\n"
      ],
      "execution_count": 0,
      "outputs": []
    },
    {
      "cell_type": "code",
      "metadata": {
        "id": "2lv6KuPzIF0F",
        "colab_type": "code",
        "colab": {}
      },
      "source": [
        "#creates dictionary; includes building location as the key and distance as the value\n",
        "loc_dist_dict = {}\n",
        "\n",
        "#creates function to find the building closest to a specific manhole\n",
        "def closest(a):\n",
        "  \n",
        "  for building_num in range(0, buildings.num_rows):\n",
        "    distance = np.sqrt((manholes[\"X Coordinate [ft]\"][a] - buildings[\"X Coordinate [ft]\"][building_num])**2 + (manholes[\"Y Coordinate [ft]\"][a] - buildings[\"Y Coordinate [ft]\"][building_num])**2)\n",
        "    loc_dist_dict[(str(buildings[\"X Coordinate [ft]\"][building_num]) + \", \" + (str(buildings[\"Y Coordinate [ft]\"][building_num])))] = distance\n",
        "  closest = (min(loc_dist_dict.items(), key=lambda x: x[1])[0]) \n",
        "  return closest\n",
        "\n",
        "#computes function for every manhole\n",
        "\n",
        "closest_building = [closest(manhole_num) for manhole_num in range(0, manholes.num_rows)]\n",
        "#closest_building\n",
        "closest_table = Table().with_columns(\"MHID\", manholes[\"MHID\"], \"Manhole Location\", manholes[\"Location\"], \"Manhole X Coordinate [ft]\", manholes[\"X Coordinate [ft]\"])\n",
        "closest_table = closest_table.with_columns(\"Manhole Y Coordinate [ft]\", manholes[\"Y Coordinate [ft]\"])\n",
        "#print(\"closest building: \", len(closest_building))\n",
        "#print(\"manholes: \", manholes.num_rows)\n"
      ],
      "execution_count": 0,
      "outputs": []
    },
    {
      "cell_type": "code",
      "metadata": {
        "id": "nrYumsQuIa2a",
        "colab_type": "code",
        "outputId": "788b0b59-937d-4a6d-89ad-ba4db965479b",
        "colab": {
          "base_uri": "https://localhost:8080/",
          "height": 388
        }
      },
      "source": [
        "closest_table"
      ],
      "execution_count": 51,
      "outputs": [
        {
          "output_type": "execute_result",
          "data": {
            "text/html": [
              "<table border=\"1\" class=\"dataframe\">\n",
              "    <thead>\n",
              "        <tr>\n",
              "            <th>MHID</th> <th>Manhole Location</th> <th>Manhole X Coordinate [ft]</th> <th>Manhole Y Coordinate [ft]</th>\n",
              "        </tr>\n",
              "    </thead>\n",
              "    <tbody>\n",
              "        <tr>\n",
              "            <td>15557</td> <td>FIRST AVE N/O 12 ST     </td> <td>1612481                  </td> <td>1113943                  </td>\n",
              "        </tr>\n",
              "        <tr>\n",
              "            <td>15562</td> <td>42 ST W/O SECOND AVE    </td> <td>1611626                  </td> <td>1121696                  </td>\n",
              "        </tr>\n",
              "        <tr>\n",
              "            <td>15568</td> <td>BROAD ST N/O WATER ST   </td> <td>1610356                  </td> <td>1101450                  </td>\n",
              "        </tr>\n",
              "        <tr>\n",
              "            <td>15569</td> <td>41 ST E/O THIRD AVE     </td> <td>1611073                  </td> <td>1121430                  </td>\n",
              "        </tr>\n",
              "        <tr>\n",
              "            <td>15583</td> <td>41 ST I/S SECOND AVE    </td> <td>1611659                  </td> <td>1121460                  </td>\n",
              "        </tr>\n",
              "        <tr>\n",
              "            <td>15612</td> <td>AVENUE C  S/O 18 ST     </td> <td>1614626                  </td> <td>1115433                  </td>\n",
              "        </tr>\n",
              "        <tr>\n",
              "            <td>15613</td> <td>FDR  S/O 20 ST          </td> <td>1614314                  </td> <td>1115842                  </td>\n",
              "        </tr>\n",
              "        <tr>\n",
              "            <td>15584</td> <td>AVENUE D  S/O 10 ST     </td> <td>1615428                  </td> <td>1113223                  </td>\n",
              "        </tr>\n",
              "        <tr>\n",
              "            <td>15578</td> <td> AVENUE D  N/O 10 ST    </td> <td>1615366                  </td> <td>1113456                  </td>\n",
              "        </tr>\n",
              "        <tr>\n",
              "            <td>15607</td> <td>63 ST E/O LEXTINGTON AVE</td> <td>1610538                  </td> <td>1127237                  </td>\n",
              "        </tr>\n",
              "    </tbody>\n",
              "</table>\n",
              "<p>... (919 rows omitted)</p>"
            ],
            "text/plain": [
              "MHID  | Manhole Location         | Manhole X Coordinate [ft] | Manhole Y Coordinate [ft]\n",
              "15557 | FIRST AVE N/O 12 ST      | 1612481                   | 1113943\n",
              "15562 | 42 ST W/O SECOND AVE     | 1611626                   | 1121696\n",
              "15568 | BROAD ST N/O WATER ST    | 1610356                   | 1101450\n",
              "15569 | 41 ST E/O THIRD AVE      | 1611073                   | 1121430\n",
              "15583 | 41 ST I/S SECOND AVE     | 1611659                   | 1121460\n",
              "15612 | AVENUE C  S/O 18 ST      | 1614626                   | 1115433\n",
              "15613 | FDR  S/O 20 ST           | 1614314                   | 1115842\n",
              "15584 | AVENUE D  S/O 10 ST      | 1615428                   | 1113223\n",
              "15578 |  AVENUE D  N/O 10 ST     | 1615366                   | 1113456\n",
              "15607 | 63 ST E/O LEXTINGTON AVE | 1610538                   | 1127237\n",
              "... (919 rows omitted)"
            ]
          },
          "metadata": {
            "tags": []
          },
          "execution_count": 51
        }
      ]
    },
    {
      "cell_type": "code",
      "metadata": {
        "id": "k8y37dMZLgx7",
        "colab_type": "code",
        "colab": {}
      },
      "source": [
        "building_coords = [str(buildings[\"X Coordinate [ft]\"][0]) + \", \" + str(buildings[\"Y Coordinate [ft]\"][0])]\n",
        "\n",
        "for n in range(1, buildings.num_rows):\n",
        "    building_coords.append(str(buildings[\"X Coordinate [ft]\"][n]) + \", \" + str(buildings[\"Y Coordinate [ft]\"][n]))\n",
        "\n",
        "    \n",
        "    \n",
        "index_manhole = [building_coords.index(closest_building[0])]\n",
        "\n",
        "for i in range(1, len(closest_building)):\n",
        "    index_manhole.append(building_coords.index(closest_building[i])) \n",
        "    "
      ],
      "execution_count": 0,
      "outputs": []
    },
    {
      "cell_type": "code",
      "metadata": {
        "id": "YPG1bgqBjEvC",
        "colab_type": "code",
        "outputId": "7fe4816f-206a-4285-e95d-cea04bf013a6",
        "colab": {
          "base_uri": "https://localhost:8080/",
          "height": 473
        }
      },
      "source": [
        "closest_table.with_columns(\"Customer Name\", buildings[1][index_manhole], \"POE Address\", buildings[2][index_manhole], \"Customer Address\", buildings[0][index_manhole], \"Building X Coordinate [ft]\", buildings[7][index_manhole], \"Building Y Coordinate [ft]\", buildings[9][index_manhole])"
      ],
      "execution_count": 53,
      "outputs": [
        {
          "output_type": "execute_result",
          "data": {
            "text/html": [
              "<table border=\"1\" class=\"dataframe\">\n",
              "    <thead>\n",
              "        <tr>\n",
              "            <th>MHID</th> <th>Manhole Location</th> <th>Manhole X Coordinate [ft]</th> <th>Manhole Y Coordinate [ft]</th> <th>Customer Name</th> <th>POE Address</th> <th>Customer Address</th> <th>Building X Coordinate [ft]</th> <th>Building Y Coordinate [ft]</th>\n",
              "        </tr>\n",
              "    </thead>\n",
              "    <tbody>\n",
              "        <tr>\n",
              "            <td>15557</td> <td>FIRST AVE N/O 12 ST     </td> <td>1612481                  </td> <td>1113943                  </td> <td>NEW YORK TELEPHONE CO                         </td> <td>204-214 SECOND AVE.</td> <td>204-14 SECOND AVE</td> <td>1611696                   </td> <td>1114097                   </td>\n",
              "        </tr>\n",
              "        <tr>\n",
              "            <td>15562</td> <td>42 ST W/O SECOND AVE    </td> <td>1611626                  </td> <td>1121696                  </td> <td>SLG 220 NEWS OWNER LLC                        </td> <td>247 E41 ST         </td> <td>223-47 41 ST     </td> <td>1611643                   </td> <td>1121506                   </td>\n",
              "        </tr>\n",
              "        <tr>\n",
              "            <td>15568</td> <td>BROAD ST N/O WATER ST   </td> <td>1610356                  </td> <td>1101450                  </td> <td>NEW YORK TELEPHONE CO                         </td> <td>102 BROAD ST       </td> <td>104 BROAD ST     </td> <td>1610332                   </td> <td>1101513                   </td>\n",
              "        </tr>\n",
              "        <tr>\n",
              "            <td>15569</td> <td>41 ST E/O THIRD AVE     </td> <td>1611073                  </td> <td>1121430                  </td> <td>ALMA D ASKIN SEYMOUR B ROYAL H AND DAVID DURST</td> <td>205 E 41ST ST      </td> <td>200 42 ST        </td> <td>1611039                   </td> <td>1121440                   </td>\n",
              "        </tr>\n",
              "        <tr>\n",
              "            <td>15583</td> <td>41 ST I/S SECOND AVE    </td> <td>1611659                  </td> <td>1121460                  </td> <td>SLG 220 NEWS OWNER LLC                        </td> <td>247 E41 ST         </td> <td>223-47 41 ST     </td> <td>1611643                   </td> <td>1121506                   </td>\n",
              "        </tr>\n",
              "        <tr>\n",
              "            <td>15612</td> <td>AVENUE C  S/O 18 ST     </td> <td>1614626                  </td> <td>1115433                  </td> <td>BPP ST OWNER LLC                              </td> <td>309 AVE C BLDG.30  </td> <td>309 C AVE        </td> <td>1614614                   </td> <td>1115422                   </td>\n",
              "        </tr>\n",
              "        <tr>\n",
              "            <td>15613</td> <td>FDR  S/O 20 ST          </td> <td>1614314                  </td> <td>1115842                  </td> <td>BPP ST OWNER LLC                              </td> <td>325 AVE C  BLDG.25 </td> <td>325 C AVE        </td> <td>1614330                   </td> <td>1115826                   </td>\n",
              "        </tr>\n",
              "        <tr>\n",
              "            <td>15584</td> <td>AVENUE D  S/O 10 ST     </td> <td>1615428                  </td> <td>1113223                  </td> <td>BOYS BROTHERHOOD REP OF NEW YORK INC          </td> <td>60 AVENUE D        </td> <td>888 6 ST         </td> <td>1615403                   </td> <td>1112349                   </td>\n",
              "        </tr>\n",
              "        <tr>\n",
              "            <td>15578</td> <td> AVENUE D  N/O 10 ST    </td> <td>1615366                  </td> <td>1113456                  </td> <td>NEW YORK CITY NEWTN CREEK WPCP DEPT WTR RESR  </td> <td>184 AVE D          </td> <td>184 AVENUE D     </td> <td>1615377                   </td> <td>1114131                   </td>\n",
              "        </tr>\n",
              "        <tr>\n",
              "            <td>15607</td> <td>63 ST E/O LEXTINGTON AVE</td> <td>1610538                  </td> <td>1127237                  </td> <td>139 EAST 63 STREET INC                        </td> <td>139 E63 ST         </td> <td>139 63 ST        </td> <td>1610557                   </td> <td>1127260                   </td>\n",
              "        </tr>\n",
              "    </tbody>\n",
              "</table>\n",
              "<p>... (919 rows omitted)</p>"
            ],
            "text/plain": [
              "MHID  | Manhole Location         | Manhole X Coordinate [ft] | Manhole Y Coordinate [ft] | Customer Name                                  | POE Address         | Customer Address  | Building X Coordinate [ft] | Building Y Coordinate [ft]\n",
              "15557 | FIRST AVE N/O 12 ST      | 1612481                   | 1113943                   | NEW YORK TELEPHONE CO                          | 204-214 SECOND AVE. | 204-14 SECOND AVE | 1611696                    | 1114097\n",
              "15562 | 42 ST W/O SECOND AVE     | 1611626                   | 1121696                   | SLG 220 NEWS OWNER LLC                         | 247 E41 ST          | 223-47 41 ST      | 1611643                    | 1121506\n",
              "15568 | BROAD ST N/O WATER ST    | 1610356                   | 1101450                   | NEW YORK TELEPHONE CO                          | 102 BROAD ST        | 104 BROAD ST      | 1610332                    | 1101513\n",
              "15569 | 41 ST E/O THIRD AVE      | 1611073                   | 1121430                   | ALMA D ASKIN SEYMOUR B ROYAL H AND DAVID DURST | 205 E 41ST ST       | 200 42 ST         | 1611039                    | 1121440\n",
              "15583 | 41 ST I/S SECOND AVE     | 1611659                   | 1121460                   | SLG 220 NEWS OWNER LLC                         | 247 E41 ST          | 223-47 41 ST      | 1611643                    | 1121506\n",
              "15612 | AVENUE C  S/O 18 ST      | 1614626                   | 1115433                   | BPP ST OWNER LLC                               | 309 AVE C BLDG.30   | 309 C AVE         | 1614614                    | 1115422\n",
              "15613 | FDR  S/O 20 ST           | 1614314                   | 1115842                   | BPP ST OWNER LLC                               | 325 AVE C  BLDG.25  | 325 C AVE         | 1614330                    | 1115826\n",
              "15584 | AVENUE D  S/O 10 ST      | 1615428                   | 1113223                   | BOYS BROTHERHOOD REP OF NEW YORK INC           | 60 AVENUE D         | 888 6 ST          | 1615403                    | 1112349\n",
              "15578 |  AVENUE D  N/O 10 ST     | 1615366                   | 1113456                   | NEW YORK CITY NEWTN CREEK WPCP DEPT WTR RESR   | 184 AVE D           | 184 AVENUE D      | 1615377                    | 1114131\n",
              "15607 | 63 ST E/O LEXTINGTON AVE | 1610538                   | 1127237                   | 139 EAST 63 STREET INC                         | 139 E63 ST          | 139 63 ST         | 1610557                    | 1127260\n",
              "... (919 rows omitted)"
            ]
          },
          "metadata": {
            "tags": []
          },
          "execution_count": 53
        }
      ]
    },
    {
      "cell_type": "code",
      "metadata": {
        "id": "VZiDbXfipAOU",
        "colab_type": "code",
        "outputId": "d45a51d1-cb83-4c85-870f-4e22e7d29c38",
        "colab": {
          "base_uri": "https://localhost:8080/",
          "height": 1000
        }
      },
      "source": [
        "RTU = {\"MHID\": manholes[\"MHID\"], \"Manhole Location\": manholes[\"Location\"], \"Manhole X Coordinate [ft]\": manholes[\"X Coordinate [ft]\"], \"Customer Name\": buildings[1][index_manhole], \"POE Address\": buildings[2][index_manhole], \"Customer Address\": buildings[0][index_manhole], \"Building X Coordinate [ft]\": buildings[7][index_manhole], \"Building Y Coordinate [ft]\": buildings[9][index_manhole]}\n",
        "\n",
        "df = DataFrame(RTU, columns= [\"MHID\", \"Manhole Location\", \"Manhole X Coordinate [ft]\", \"Customer Name\", \"POE Address\", \"Customer Address\", \"Building X Coordinate [ft]\", \"Building Y Coordinate [ft]\"])\n",
        "\n",
        "export_excel = df.to_excel (r'C:\\Users\\GonzalezAd\\Desktop\\RTU_data1.xlsx', index = None, header=True) \n",
        "\n",
        "print (df)"
      ],
      "execution_count": 64,
      "outputs": [
        {
          "output_type": "stream",
          "text": [
            "      MHID  ... Building Y Coordinate [ft]\n",
            "0    15557  ...                    1114097\n",
            "1    15562  ...                    1121506\n",
            "2    15568  ...                    1101513\n",
            "3    15569  ...                    1121440\n",
            "4    15583  ...                    1121506\n",
            "5    15612  ...                    1115422\n",
            "6    15613  ...                    1115826\n",
            "7    15584  ...                    1112349\n",
            "8    15578  ...                    1114131\n",
            "9    15607  ...                    1127260\n",
            "10   15608  ...                    1130703\n",
            "11   15597  ...                    1129622\n",
            "12   15588  ...                    1125945\n",
            "13   15589  ...                    1125953\n",
            "14   15590  ...                    1125945\n",
            "15   15585  ...                    1125667\n",
            "16   15596  ...                    1123586\n",
            "17   15593  ...                    1115953\n",
            "18   15594  ...                    1115953\n",
            "19   15595  ...                    1115873\n",
            "20   15587  ...                    1114941\n",
            "21   15577  ...                    1115291\n",
            "22   15576  ...                    1114683\n",
            "23   15591  ...                    1108870\n",
            "24   15598  ...                    1114683\n",
            "25   15599  ...                    1108870\n",
            "26   15600  ...                    1114131\n",
            "27   15609  ...                    1109870\n",
            "28   15601  ...                    1110848\n",
            "29   15603  ...                    1113749\n",
            "..     ...  ...                        ...\n",
            "899  16465  ...                    1105125\n",
            "900  16467  ...                    1117162\n",
            "901  16466  ...                    1102031\n",
            "902  16472  ...                    1110848\n",
            "903  16473  ...                    1116736\n",
            "904  16475  ...                    1129958\n",
            "905  16476  ...                    1127788\n",
            "906  16477  ...                    1119245\n",
            "907  16375  ...                    1121453\n",
            "908  16481  ...                    1108870\n",
            "909  16482  ...                    1103560\n",
            "910  16488  ...                    1128820\n",
            "911  16494  ...                    1119908\n",
            "912  16491  ...                    1122535\n",
            "913  16495  ...                    1104842\n",
            "914  16496  ...                    1129622\n",
            "915  16497  ...                    1108870\n",
            "916  16483  ...                    1130441\n",
            "917  16490  ...                    1105005\n",
            "918  16487  ...                    1127771\n",
            "919  16486  ...                    1131024\n",
            "920  16492  ...                    1120682\n",
            "921  16484  ...                    1127790\n",
            "922  16485  ...                    1128022\n",
            "923  16499  ...                    1120393\n",
            "924  17248  ...                    1109953\n",
            "925  17249  ...                    1121846\n",
            "926  17250  ...                    1117032\n",
            "927  17251  ...                    1129912\n",
            "928  16267  ...                    1115953\n",
            "\n",
            "[929 rows x 8 columns]\n"
          ],
          "name": "stdout"
        }
      ]
    },
    {
      "cell_type": "code",
      "metadata": {
        "id": "WWNWWLl1t4Zc",
        "colab_type": "code",
        "colab": {}
      },
      "source": [
        ""
      ],
      "execution_count": 0,
      "outputs": []
    }
  ]
}